{
  "cells": [
    {
      "cell_type": "code",
      "execution_count": null,
      "metadata": {
        "id": "tUmn76t113RR"
      },
      "outputs": [],
      "source": [
        "import pandas as pd\n",
        "from sklearn import linear_model\n",
        "from sklearn import preprocessing\n",
        "from sklearn.model_selection import train_test_split\n",
        "from sklearn.metrics import mean_absolute_error, mean_squared_error\n",
        "import matplotlib.pyplot as plt\n",
        "from folium import plugins"
      ]
    },
    {
      "cell_type": "code",
      "execution_count": null,
      "metadata": {
        "id": "R-PgfoztOrpJ"
      },
      "outputs": [],
      "source": [
        "import numpy as np"
      ]
    },
    {
      "cell_type": "code",
      "execution_count": null,
      "metadata": {
        "id": "54qTxUD6brFI"
      },
      "outputs": [],
      "source": [
        "import warnings\n",
        "warnings.filterwarnings('ignore')\n",
        "import seaborn as sns"
      ]
    },
    {
      "cell_type": "code",
      "execution_count": null,
      "metadata": {
        "id": "HajFbTcJe4dY"
      },
      "outputs": [],
      "source": [
        "from sklearn.tree import DecisionTreeRegressor"
      ]
    },
    {
      "cell_type": "code",
      "execution_count": null,
      "metadata": {
        "id": "--YQbziI3oXI"
      },
      "outputs": [],
      "source": [
        "df = pd.read_csv('newfile.csv')"
      ]
    },
    {
      "cell_type": "markdown",
      "source": [
        "Understanding the dataset"
      ],
      "metadata": {
        "id": "aOIP30po9qog"
      }
    },
    {
      "cell_type": "code",
      "execution_count": null,
      "metadata": {
        "colab": {
          "base_uri": "https://localhost:8080/"
        },
        "id": "0sqD4DEf3yO7",
        "outputId": "9d54297c-2b8d-46bd-8439-262c24d87732"
      },
      "outputs": [
        {
          "output_type": "stream",
          "name": "stdout",
          "text": [
            "<class 'pandas.core.frame.DataFrame'>\n",
            "RangeIndex: 248424 entries, 0 to 248423\n",
            "Data columns (total 12 columns):\n",
            " #   Column                 Non-Null Count   Dtype \n",
            "---  ------                 --------------   ----- \n",
            " 0   financialyear          248424 non-null  object\n",
            " 1   financialquarter       248424 non-null  int64 \n",
            " 2   forcename              248424 non-null  object\n",
            " 3   offencedescription     248424 non-null  object\n",
            " 4   offencegroup           248424 non-null  object\n",
            " 5   offencesubgroup        248424 non-null  object\n",
            " 6   offencecode            248424 non-null  object\n",
            " 7   numberofoffences       248424 non-null  int64 \n",
            " 8   oldprcoffencegroup     248424 non-null  object\n",
            " 9   oldoffencesubgroip     138556 non-null  object\n",
            " 10  newonsoffencegroup     248424 non-null  object\n",
            " 11  newonssuboffencegroup  248424 non-null  object\n",
            "dtypes: int64(2), object(10)\n",
            "memory usage: 22.7+ MB\n"
          ]
        }
      ],
      "source": [
        "df.info()"
      ]
    },
    {
      "cell_type": "code",
      "execution_count": null,
      "metadata": {
        "colab": {
          "base_uri": "https://localhost:8080/"
        },
        "id": "Sqk3n1HT8mDj",
        "outputId": "398c016e-c01e-4ca1-f9bd-d602c76cfcc2"
      },
      "outputs": [
        {
          "output_type": "execute_result",
          "data": {
            "text/plain": [
              "count    248424.000000\n",
              "mean        213.745306\n",
              "std         851.113370\n",
              "min        -268.000000\n",
              "25%           0.000000\n",
              "50%           9.000000\n",
              "75%          78.000000\n",
              "max       29480.000000\n",
              "Name: numberofoffences, dtype: float64"
            ]
          },
          "metadata": {},
          "execution_count": 7
        }
      ],
      "source": [
        "df['numberofoffences'].describe()"
      ]
    },
    {
      "cell_type": "code",
      "execution_count": null,
      "metadata": {
        "colab": {
          "base_uri": "https://localhost:8080/"
        },
        "id": "xrigWA_w9svC",
        "outputId": "d97c179c-deeb-41e4-e0a9-2a6f8a49dec7"
      },
      "outputs": [
        {
          "output_type": "execute_result",
          "data": {
            "text/plain": [
              "financialyear                 0\n",
              "financialquarter              0\n",
              "forcename                     0\n",
              "offencedescription            0\n",
              "offencegroup                  0\n",
              "offencesubgroup               0\n",
              "offencecode                   0\n",
              "numberofoffences              0\n",
              "oldprcoffencegroup            0\n",
              "oldoffencesubgroip       109868\n",
              "newonsoffencegroup            0\n",
              "newonssuboffencegroup         0\n",
              "dtype: int64"
            ]
          },
          "metadata": {},
          "execution_count": 8
        }
      ],
      "source": [
        "df.isna().sum()"
      ]
    },
    {
      "cell_type": "markdown",
      "source": [
        "Preprocessing\n",
        "Dropping unnecessary column"
      ],
      "metadata": {
        "id": "D5s6rYgK9uQh"
      }
    },
    {
      "cell_type": "code",
      "execution_count": null,
      "metadata": {
        "id": "z-j9PaqK99Ib"
      },
      "outputs": [],
      "source": [
        "df.drop(columns=['oldoffencesubgroip'], inplace=True)"
      ]
    },
    {
      "cell_type": "code",
      "execution_count": null,
      "metadata": {
        "colab": {
          "base_uri": "https://localhost:8080/"
        },
        "id": "xLd4Pwbv-Dmn",
        "outputId": "966e3793-919e-452c-a883-bbe9500ab16c"
      },
      "outputs": [
        {
          "output_type": "stream",
          "name": "stdout",
          "text": [
            "<class 'pandas.core.frame.DataFrame'>\n",
            "RangeIndex: 248424 entries, 0 to 248423\n",
            "Data columns (total 11 columns):\n",
            " #   Column                 Non-Null Count   Dtype \n",
            "---  ------                 --------------   ----- \n",
            " 0   financialyear          248424 non-null  object\n",
            " 1   financialquarter       248424 non-null  int64 \n",
            " 2   forcename              248424 non-null  object\n",
            " 3   offencedescription     248424 non-null  object\n",
            " 4   offencegroup           248424 non-null  object\n",
            " 5   offencesubgroup        248424 non-null  object\n",
            " 6   offencecode            248424 non-null  object\n",
            " 7   numberofoffences       248424 non-null  int64 \n",
            " 8   oldprcoffencegroup     248424 non-null  object\n",
            " 9   newonsoffencegroup     248424 non-null  object\n",
            " 10  newonssuboffencegroup  248424 non-null  object\n",
            "dtypes: int64(2), object(9)\n",
            "memory usage: 20.8+ MB\n"
          ]
        }
      ],
      "source": [
        "df.info()"
      ]
    },
    {
      "cell_type": "markdown",
      "source": [
        "Replacing negative values with zero"
      ],
      "metadata": {
        "id": "aH6sk0AM90_C"
      }
    },
    {
      "cell_type": "code",
      "execution_count": null,
      "metadata": {
        "id": "voikjaoa-nC1"
      },
      "outputs": [],
      "source": [
        "# Specify the column for which you want to show only negative values\n",
        "column_name = 'numberofoffences'\n",
        "\n",
        "# Filtering only negative values from the specified column\n",
        "negative_values_column = df[df[column_name] < 0]"
      ]
    },
    {
      "cell_type": "code",
      "execution_count": null,
      "metadata": {
        "colab": {
          "base_uri": "https://localhost:8080/"
        },
        "id": "OdaeZ99j_HgT",
        "outputId": "a308a6c1-4476-4225-ada4-cfb58f946136"
      },
      "outputs": [
        {
          "output_type": "stream",
          "name": "stdout",
          "text": [
            "       financialyear  financialquarter                 forcename  \\\n",
            "378          2012/13                 1  British Transport Police   \n",
            "664          2012/13                 1                  Cheshire   \n",
            "6346         2012/13                 2         Avon and Somerset   \n",
            "6372         2012/13                 2         Avon and Somerset   \n",
            "6384         2012/13                 2         Avon and Somerset   \n",
            "...              ...               ...                       ...   \n",
            "154068       2018/19                 4           London, City of   \n",
            "154085       2018/19                 4           London, City of   \n",
            "154102       2018/19                 4           London, City of   \n",
            "154121       2018/19                 4           London, City of   \n",
            "154132       2018/19                 4           London, City of   \n",
            "\n",
            "                                       offencedescription  \\\n",
            "378     Preserved other fraud and repealed fraud offen...   \n",
            "664     Preserved other fraud and repealed fraud offen...   \n",
            "6346            Fraud by company director (outcomes only)   \n",
            "6372                                              Perjury   \n",
            "6384    Preserved other fraud and repealed fraud offen...   \n",
            "...                                                   ...   \n",
            "154068                                   Endangering life   \n",
            "154085                                Other drug offences   \n",
            "154102  Profiting from or concealing knowledge of the ...   \n",
            "154121          Sexual assault on a male aged 13 and over   \n",
            "154132      Theft or unauthorised taking of motor vehicle   \n",
            "\n",
            "                                offencegroup  \\\n",
            "378                           Fraud offences   \n",
            "664                           Fraud offences   \n",
            "6346                          Fraud offences   \n",
            "6372    Miscellaneous crimes against society   \n",
            "6384                          Fraud offences   \n",
            "...                                      ...   \n",
            "154068           Violence against the person   \n",
            "154085                         Drug offences   \n",
            "154102  Miscellaneous crimes against society   \n",
            "154121                       Sexual offences   \n",
            "154132                        Theft offences   \n",
            "\n",
            "                             offencesubgroup offencecode  numberofoffences  \\\n",
            "378                Fraud offences to 2012/13         53B                -1   \n",
            "664                Fraud offences to 2012/13         53B                -3   \n",
            "6346               Fraud offences to 2012/13          51                -1   \n",
            "6372    Miscellaneous crimes against society          67                -1   \n",
            "6384               Fraud offences to 2012/13         53B               -15   \n",
            "...                                      ...         ...               ...   \n",
            "154068                  Violence with injury          5E                -1   \n",
            "154085                   Possession of drugs         92C                -1   \n",
            "154102  Miscellaneous crimes against society          38                -2   \n",
            "154121                 Other sexual offences         17A                -1   \n",
            "154132              Theft of a motor vehicle          48                -2   \n",
            "\n",
            "                  oldprcoffencegroup                    newonsoffencegroup  \\\n",
            "378                Fraud and forgery             Fraud offences to 2012/13   \n",
            "664                Fraud and forgery             Fraud offences to 2012/13   \n",
            "6346               Fraud and forgery             Fraud offences to 2012/13   \n",
            "6372    Other miscellaneous offences  Miscellaneous crimes against society   \n",
            "6384               Fraud and forgery             Fraud offences to 2012/13   \n",
            "...                              ...                                   ...   \n",
            "154068   Violence against the person           Violence against the person   \n",
            "154085                 Drug offences                         Drug offences   \n",
            "154102          Other theft offences  Miscellaneous crimes against society   \n",
            "154121               Sexual offences                       Sexual offences   \n",
            "154132     Offences against vehicles                        Theft offences   \n",
            "\n",
            "                       newonssuboffencegroup  \n",
            "378                Fraud offences to 2012/13  \n",
            "664                Fraud offences to 2012/13  \n",
            "6346               Fraud offences to 2012/13  \n",
            "6372    Miscellaneous crimes against society  \n",
            "6384               Fraud offences to 2012/13  \n",
            "...                                      ...  \n",
            "154068                  Violence with injury  \n",
            "154085                   Possession of drugs  \n",
            "154102  Miscellaneous crimes against society  \n",
            "154121                 Other sexual offences  \n",
            "154132                      Vehicle offences  \n",
            "\n",
            "[459 rows x 11 columns]\n"
          ]
        }
      ],
      "source": [
        "print(negative_values_column)"
      ]
    },
    {
      "cell_type": "code",
      "execution_count": null,
      "metadata": {
        "id": "ofc7dOMxNOYT"
      },
      "outputs": [],
      "source": [
        "df = df[df['numberofoffences'] >= 0]"
      ]
    },
    {
      "cell_type": "code",
      "execution_count": null,
      "metadata": {
        "colab": {
          "base_uri": "https://localhost:8080/"
        },
        "id": "_tQxGd4OANWp",
        "outputId": "ee4e8105-a989-4e02-f1de-52f1b86a3938"
      },
      "outputs": [
        {
          "output_type": "execute_result",
          "data": {
            "text/plain": [
              "count    247965.000000\n",
              "mean        214.147852\n",
              "std         851.849019\n",
              "min           0.000000\n",
              "25%           0.000000\n",
              "50%           9.000000\n",
              "75%          79.000000\n",
              "max       29480.000000\n",
              "Name: numberofoffences, dtype: float64"
            ]
          },
          "metadata": {},
          "execution_count": 11
        }
      ],
      "source": [
        "df['numberofoffences'].describe()"
      ]
    },
    {
      "cell_type": "markdown",
      "source": [
        "Confirming if negative values exist anymore"
      ],
      "metadata": {
        "id": "i0Mku2uK97m6"
      }
    },
    {
      "cell_type": "code",
      "execution_count": null,
      "metadata": {
        "id": "20O1PlYJO01d"
      },
      "outputs": [],
      "source": [
        "negative_values_column = df[df['numberofoffences'] < 0]"
      ]
    },
    {
      "cell_type": "code",
      "execution_count": null,
      "metadata": {
        "colab": {
          "base_uri": "https://localhost:8080/"
        },
        "id": "64zDjmlYPsA1",
        "outputId": "84080c1b-f833-4750-ded9-fe255cc03af6"
      },
      "outputs": [
        {
          "output_type": "stream",
          "name": "stdout",
          "text": [
            "Empty DataFrame\n",
            "Columns: [financialyear, financialquarter, forcename, offencedescription, offencegroup, offencesubgroup, offencecode, numberofoffences, oldprcoffencegroup, newonsoffencegroup, newonssuboffencegroup]\n",
            "Index: []\n"
          ]
        }
      ],
      "source": [
        "print(negative_values_column)"
      ]
    },
    {
      "cell_type": "code",
      "execution_count": null,
      "metadata": {
        "id": "jlfPAWw7QVVg"
      },
      "outputs": [],
      "source": [
        "df.columns = df.columns.str.strip()"
      ]
    },
    {
      "cell_type": "markdown",
      "source": [
        "Exploratory Data Analysis"
      ],
      "metadata": {
        "id": "-XFkQRwl-AQE"
      }
    },
    {
      "cell_type": "code",
      "execution_count": null,
      "metadata": {
        "id": "STOXZ5W1Ro2n"
      },
      "outputs": [],
      "source": [
        "group_df = df.groupby(['offencecode','forcename'])"
      ]
    },
    {
      "cell_type": "code",
      "execution_count": null,
      "metadata": {
        "colab": {
          "base_uri": "https://localhost:8080/",
          "height": 558
        },
        "id": "X7K1bRVjRt6h",
        "outputId": "145b47cf-e976-46a5-d1da-9a21967ae860"
      },
      "outputs": [
        {
          "output_type": "execute_result",
          "data": {
            "text/plain": [
              "                                     financialquarter                      \\\n",
              "                                                count      mean       std   \n",
              "offencecode forcename                                                       \n",
              "1           Avon and Somerset                    41.0  2.463415  1.142313   \n",
              "            Bedfordshire                         40.0  2.450000  1.153590   \n",
              "            British Transport Police             41.0  2.463415  1.142313   \n",
              "            Cambridgeshire                       41.0  2.463415  1.142313   \n",
              "            Cheshire                             41.0  2.463415  1.142313   \n",
              "...                                               ...       ...       ...   \n",
              "9B          Warwickshire                         45.0  2.466667  1.140175   \n",
              "            West Mercia                          45.0  2.466667  1.140175   \n",
              "            West Midlands                        45.0  2.466667  1.140175   \n",
              "            West Yorkshire                       45.0  2.466667  1.140175   \n",
              "            Wiltshire                            45.0  2.466667  1.140175   \n",
              "\n",
              "                                                                \\\n",
              "                                      min  25%  50%   75%  max   \n",
              "offencecode forcename                                            \n",
              "1           Avon and Somerset         1.0  1.0  2.0  3.00  4.0   \n",
              "            Bedfordshire              1.0  1.0  2.0  3.25  4.0   \n",
              "            British Transport Police  1.0  1.0  2.0  3.00  4.0   \n",
              "            Cambridgeshire            1.0  1.0  2.0  3.00  4.0   \n",
              "            Cheshire                  1.0  1.0  2.0  3.00  4.0   \n",
              "...                                   ...  ...  ...   ...  ...   \n",
              "9B          Warwickshire              1.0  1.0  2.0  3.00  4.0   \n",
              "            West Mercia               1.0  1.0  2.0  3.00  4.0   \n",
              "            West Midlands             1.0  1.0  2.0  3.00  4.0   \n",
              "            West Yorkshire            1.0  1.0  2.0  3.00  4.0   \n",
              "            Wiltshire                 1.0  1.0  2.0  3.00  4.0   \n",
              "\n",
              "                                     numberofoffences                          \\\n",
              "                                                count        mean         std   \n",
              "offencecode forcename                                                           \n",
              "1           Avon and Somerset                    41.0    2.853659    1.782708   \n",
              "            Bedfordshire                         40.0    1.600000    1.373747   \n",
              "            British Transport Police             41.0    0.390244    0.666260   \n",
              "            Cambridgeshire                       41.0    1.682927    1.368193   \n",
              "            Cheshire                             41.0    1.317073    2.042535   \n",
              "...                                               ...         ...         ...   \n",
              "9B          Warwickshire                         45.0   65.200000   27.013969   \n",
              "            West Mercia                          45.0  124.466667   45.117322   \n",
              "            West Midlands                        45.0  693.577778  294.136833   \n",
              "            West Yorkshire                       45.0  609.733333  288.532132   \n",
              "            Wiltshire                            45.0   65.977778   21.994306   \n",
              "\n",
              "                                                                            \n",
              "                                        min     25%    50%     75%     max  \n",
              "offencecode forcename                                                       \n",
              "1           Avon and Somerset           1.0    1.00    3.0    4.00     9.0  \n",
              "            Bedfordshire                0.0    0.75    1.0    2.25     5.0  \n",
              "            British Transport Police    0.0    0.00    0.0    1.00     2.0  \n",
              "            Cambridgeshire              0.0    1.00    1.0    2.00     6.0  \n",
              "            Cheshire                    0.0    0.00    1.0    1.00    12.0  \n",
              "...                                     ...     ...    ...     ...     ...  \n",
              "9B          Warwickshire               19.0   42.00   68.0   84.00   118.0  \n",
              "            West Mercia                56.0   93.00  120.0  161.00   242.0  \n",
              "            West Midlands             320.0  467.00  648.0  870.00  1393.0  \n",
              "            West Yorkshire            194.0  298.00  682.0  793.00  1126.0  \n",
              "            Wiltshire                  24.0   50.00   64.0   80.00   118.0  \n",
              "\n",
              "[6820 rows x 16 columns]"
            ],
            "text/html": [
              "\n",
              "  <div id=\"df-92cffe9b-6de1-4bea-8559-3ece9ed07a28\" class=\"colab-df-container\">\n",
              "    <div>\n",
              "<style scoped>\n",
              "    .dataframe tbody tr th:only-of-type {\n",
              "        vertical-align: middle;\n",
              "    }\n",
              "\n",
              "    .dataframe tbody tr th {\n",
              "        vertical-align: top;\n",
              "    }\n",
              "\n",
              "    .dataframe thead tr th {\n",
              "        text-align: left;\n",
              "    }\n",
              "\n",
              "    .dataframe thead tr:last-of-type th {\n",
              "        text-align: right;\n",
              "    }\n",
              "</style>\n",
              "<table border=\"1\" class=\"dataframe\">\n",
              "  <thead>\n",
              "    <tr>\n",
              "      <th></th>\n",
              "      <th></th>\n",
              "      <th colspan=\"8\" halign=\"left\">financialquarter</th>\n",
              "      <th colspan=\"8\" halign=\"left\">numberofoffences</th>\n",
              "    </tr>\n",
              "    <tr>\n",
              "      <th></th>\n",
              "      <th></th>\n",
              "      <th>count</th>\n",
              "      <th>mean</th>\n",
              "      <th>std</th>\n",
              "      <th>min</th>\n",
              "      <th>25%</th>\n",
              "      <th>50%</th>\n",
              "      <th>75%</th>\n",
              "      <th>max</th>\n",
              "      <th>count</th>\n",
              "      <th>mean</th>\n",
              "      <th>std</th>\n",
              "      <th>min</th>\n",
              "      <th>25%</th>\n",
              "      <th>50%</th>\n",
              "      <th>75%</th>\n",
              "      <th>max</th>\n",
              "    </tr>\n",
              "    <tr>\n",
              "      <th>offencecode</th>\n",
              "      <th>forcename</th>\n",
              "      <th></th>\n",
              "      <th></th>\n",
              "      <th></th>\n",
              "      <th></th>\n",
              "      <th></th>\n",
              "      <th></th>\n",
              "      <th></th>\n",
              "      <th></th>\n",
              "      <th></th>\n",
              "      <th></th>\n",
              "      <th></th>\n",
              "      <th></th>\n",
              "      <th></th>\n",
              "      <th></th>\n",
              "      <th></th>\n",
              "      <th></th>\n",
              "    </tr>\n",
              "  </thead>\n",
              "  <tbody>\n",
              "    <tr>\n",
              "      <th rowspan=\"5\" valign=\"top\">1</th>\n",
              "      <th>Avon and Somerset</th>\n",
              "      <td>41.0</td>\n",
              "      <td>2.463415</td>\n",
              "      <td>1.142313</td>\n",
              "      <td>1.0</td>\n",
              "      <td>1.0</td>\n",
              "      <td>2.0</td>\n",
              "      <td>3.00</td>\n",
              "      <td>4.0</td>\n",
              "      <td>41.0</td>\n",
              "      <td>2.853659</td>\n",
              "      <td>1.782708</td>\n",
              "      <td>1.0</td>\n",
              "      <td>1.00</td>\n",
              "      <td>3.0</td>\n",
              "      <td>4.00</td>\n",
              "      <td>9.0</td>\n",
              "    </tr>\n",
              "    <tr>\n",
              "      <th>Bedfordshire</th>\n",
              "      <td>40.0</td>\n",
              "      <td>2.450000</td>\n",
              "      <td>1.153590</td>\n",
              "      <td>1.0</td>\n",
              "      <td>1.0</td>\n",
              "      <td>2.0</td>\n",
              "      <td>3.25</td>\n",
              "      <td>4.0</td>\n",
              "      <td>40.0</td>\n",
              "      <td>1.600000</td>\n",
              "      <td>1.373747</td>\n",
              "      <td>0.0</td>\n",
              "      <td>0.75</td>\n",
              "      <td>1.0</td>\n",
              "      <td>2.25</td>\n",
              "      <td>5.0</td>\n",
              "    </tr>\n",
              "    <tr>\n",
              "      <th>British Transport Police</th>\n",
              "      <td>41.0</td>\n",
              "      <td>2.463415</td>\n",
              "      <td>1.142313</td>\n",
              "      <td>1.0</td>\n",
              "      <td>1.0</td>\n",
              "      <td>2.0</td>\n",
              "      <td>3.00</td>\n",
              "      <td>4.0</td>\n",
              "      <td>41.0</td>\n",
              "      <td>0.390244</td>\n",
              "      <td>0.666260</td>\n",
              "      <td>0.0</td>\n",
              "      <td>0.00</td>\n",
              "      <td>0.0</td>\n",
              "      <td>1.00</td>\n",
              "      <td>2.0</td>\n",
              "    </tr>\n",
              "    <tr>\n",
              "      <th>Cambridgeshire</th>\n",
              "      <td>41.0</td>\n",
              "      <td>2.463415</td>\n",
              "      <td>1.142313</td>\n",
              "      <td>1.0</td>\n",
              "      <td>1.0</td>\n",
              "      <td>2.0</td>\n",
              "      <td>3.00</td>\n",
              "      <td>4.0</td>\n",
              "      <td>41.0</td>\n",
              "      <td>1.682927</td>\n",
              "      <td>1.368193</td>\n",
              "      <td>0.0</td>\n",
              "      <td>1.00</td>\n",
              "      <td>1.0</td>\n",
              "      <td>2.00</td>\n",
              "      <td>6.0</td>\n",
              "    </tr>\n",
              "    <tr>\n",
              "      <th>Cheshire</th>\n",
              "      <td>41.0</td>\n",
              "      <td>2.463415</td>\n",
              "      <td>1.142313</td>\n",
              "      <td>1.0</td>\n",
              "      <td>1.0</td>\n",
              "      <td>2.0</td>\n",
              "      <td>3.00</td>\n",
              "      <td>4.0</td>\n",
              "      <td>41.0</td>\n",
              "      <td>1.317073</td>\n",
              "      <td>2.042535</td>\n",
              "      <td>0.0</td>\n",
              "      <td>0.00</td>\n",
              "      <td>1.0</td>\n",
              "      <td>1.00</td>\n",
              "      <td>12.0</td>\n",
              "    </tr>\n",
              "    <tr>\n",
              "      <th>...</th>\n",
              "      <th>...</th>\n",
              "      <td>...</td>\n",
              "      <td>...</td>\n",
              "      <td>...</td>\n",
              "      <td>...</td>\n",
              "      <td>...</td>\n",
              "      <td>...</td>\n",
              "      <td>...</td>\n",
              "      <td>...</td>\n",
              "      <td>...</td>\n",
              "      <td>...</td>\n",
              "      <td>...</td>\n",
              "      <td>...</td>\n",
              "      <td>...</td>\n",
              "      <td>...</td>\n",
              "      <td>...</td>\n",
              "      <td>...</td>\n",
              "    </tr>\n",
              "    <tr>\n",
              "      <th rowspan=\"5\" valign=\"top\">9B</th>\n",
              "      <th>Warwickshire</th>\n",
              "      <td>45.0</td>\n",
              "      <td>2.466667</td>\n",
              "      <td>1.140175</td>\n",
              "      <td>1.0</td>\n",
              "      <td>1.0</td>\n",
              "      <td>2.0</td>\n",
              "      <td>3.00</td>\n",
              "      <td>4.0</td>\n",
              "      <td>45.0</td>\n",
              "      <td>65.200000</td>\n",
              "      <td>27.013969</td>\n",
              "      <td>19.0</td>\n",
              "      <td>42.00</td>\n",
              "      <td>68.0</td>\n",
              "      <td>84.00</td>\n",
              "      <td>118.0</td>\n",
              "    </tr>\n",
              "    <tr>\n",
              "      <th>West Mercia</th>\n",
              "      <td>45.0</td>\n",
              "      <td>2.466667</td>\n",
              "      <td>1.140175</td>\n",
              "      <td>1.0</td>\n",
              "      <td>1.0</td>\n",
              "      <td>2.0</td>\n",
              "      <td>3.00</td>\n",
              "      <td>4.0</td>\n",
              "      <td>45.0</td>\n",
              "      <td>124.466667</td>\n",
              "      <td>45.117322</td>\n",
              "      <td>56.0</td>\n",
              "      <td>93.00</td>\n",
              "      <td>120.0</td>\n",
              "      <td>161.00</td>\n",
              "      <td>242.0</td>\n",
              "    </tr>\n",
              "    <tr>\n",
              "      <th>West Midlands</th>\n",
              "      <td>45.0</td>\n",
              "      <td>2.466667</td>\n",
              "      <td>1.140175</td>\n",
              "      <td>1.0</td>\n",
              "      <td>1.0</td>\n",
              "      <td>2.0</td>\n",
              "      <td>3.00</td>\n",
              "      <td>4.0</td>\n",
              "      <td>45.0</td>\n",
              "      <td>693.577778</td>\n",
              "      <td>294.136833</td>\n",
              "      <td>320.0</td>\n",
              "      <td>467.00</td>\n",
              "      <td>648.0</td>\n",
              "      <td>870.00</td>\n",
              "      <td>1393.0</td>\n",
              "    </tr>\n",
              "    <tr>\n",
              "      <th>West Yorkshire</th>\n",
              "      <td>45.0</td>\n",
              "      <td>2.466667</td>\n",
              "      <td>1.140175</td>\n",
              "      <td>1.0</td>\n",
              "      <td>1.0</td>\n",
              "      <td>2.0</td>\n",
              "      <td>3.00</td>\n",
              "      <td>4.0</td>\n",
              "      <td>45.0</td>\n",
              "      <td>609.733333</td>\n",
              "      <td>288.532132</td>\n",
              "      <td>194.0</td>\n",
              "      <td>298.00</td>\n",
              "      <td>682.0</td>\n",
              "      <td>793.00</td>\n",
              "      <td>1126.0</td>\n",
              "    </tr>\n",
              "    <tr>\n",
              "      <th>Wiltshire</th>\n",
              "      <td>45.0</td>\n",
              "      <td>2.466667</td>\n",
              "      <td>1.140175</td>\n",
              "      <td>1.0</td>\n",
              "      <td>1.0</td>\n",
              "      <td>2.0</td>\n",
              "      <td>3.00</td>\n",
              "      <td>4.0</td>\n",
              "      <td>45.0</td>\n",
              "      <td>65.977778</td>\n",
              "      <td>21.994306</td>\n",
              "      <td>24.0</td>\n",
              "      <td>50.00</td>\n",
              "      <td>64.0</td>\n",
              "      <td>80.00</td>\n",
              "      <td>118.0</td>\n",
              "    </tr>\n",
              "  </tbody>\n",
              "</table>\n",
              "<p>6820 rows × 16 columns</p>\n",
              "</div>\n",
              "    <div class=\"colab-df-buttons\">\n",
              "\n",
              "  <div class=\"colab-df-container\">\n",
              "    <button class=\"colab-df-convert\" onclick=\"convertToInteractive('df-92cffe9b-6de1-4bea-8559-3ece9ed07a28')\"\n",
              "            title=\"Convert this dataframe to an interactive table.\"\n",
              "            style=\"display:none;\">\n",
              "\n",
              "  <svg xmlns=\"http://www.w3.org/2000/svg\" height=\"24px\" viewBox=\"0 -960 960 960\">\n",
              "    <path d=\"M120-120v-720h720v720H120Zm60-500h600v-160H180v160Zm220 220h160v-160H400v160Zm0 220h160v-160H400v160ZM180-400h160v-160H180v160Zm440 0h160v-160H620v160ZM180-180h160v-160H180v160Zm440 0h160v-160H620v160Z\"/>\n",
              "  </svg>\n",
              "    </button>\n",
              "\n",
              "  <style>\n",
              "    .colab-df-container {\n",
              "      display:flex;\n",
              "      gap: 12px;\n",
              "    }\n",
              "\n",
              "    .colab-df-convert {\n",
              "      background-color: #E8F0FE;\n",
              "      border: none;\n",
              "      border-radius: 50%;\n",
              "      cursor: pointer;\n",
              "      display: none;\n",
              "      fill: #1967D2;\n",
              "      height: 32px;\n",
              "      padding: 0 0 0 0;\n",
              "      width: 32px;\n",
              "    }\n",
              "\n",
              "    .colab-df-convert:hover {\n",
              "      background-color: #E2EBFA;\n",
              "      box-shadow: 0px 1px 2px rgba(60, 64, 67, 0.3), 0px 1px 3px 1px rgba(60, 64, 67, 0.15);\n",
              "      fill: #174EA6;\n",
              "    }\n",
              "\n",
              "    .colab-df-buttons div {\n",
              "      margin-bottom: 4px;\n",
              "    }\n",
              "\n",
              "    [theme=dark] .colab-df-convert {\n",
              "      background-color: #3B4455;\n",
              "      fill: #D2E3FC;\n",
              "    }\n",
              "\n",
              "    [theme=dark] .colab-df-convert:hover {\n",
              "      background-color: #434B5C;\n",
              "      box-shadow: 0px 1px 3px 1px rgba(0, 0, 0, 0.15);\n",
              "      filter: drop-shadow(0px 1px 2px rgba(0, 0, 0, 0.3));\n",
              "      fill: #FFFFFF;\n",
              "    }\n",
              "  </style>\n",
              "\n",
              "    <script>\n",
              "      const buttonEl =\n",
              "        document.querySelector('#df-92cffe9b-6de1-4bea-8559-3ece9ed07a28 button.colab-df-convert');\n",
              "      buttonEl.style.display =\n",
              "        google.colab.kernel.accessAllowed ? 'block' : 'none';\n",
              "\n",
              "      async function convertToInteractive(key) {\n",
              "        const element = document.querySelector('#df-92cffe9b-6de1-4bea-8559-3ece9ed07a28');\n",
              "        const dataTable =\n",
              "          await google.colab.kernel.invokeFunction('convertToInteractive',\n",
              "                                                    [key], {});\n",
              "        if (!dataTable) return;\n",
              "\n",
              "        const docLinkHtml = 'Like what you see? Visit the ' +\n",
              "          '<a target=\"_blank\" href=https://colab.research.google.com/notebooks/data_table.ipynb>data table notebook</a>'\n",
              "          + ' to learn more about interactive tables.';\n",
              "        element.innerHTML = '';\n",
              "        dataTable['output_type'] = 'display_data';\n",
              "        await google.colab.output.renderOutput(dataTable, element);\n",
              "        const docLink = document.createElement('div');\n",
              "        docLink.innerHTML = docLinkHtml;\n",
              "        element.appendChild(docLink);\n",
              "      }\n",
              "    </script>\n",
              "  </div>\n",
              "\n",
              "\n",
              "<div id=\"df-5e053c95-0d26-4970-8ee8-a0fef64c7f70\">\n",
              "  <button class=\"colab-df-quickchart\" onclick=\"quickchart('df-5e053c95-0d26-4970-8ee8-a0fef64c7f70')\"\n",
              "            title=\"Suggest charts\"\n",
              "            style=\"display:none;\">\n",
              "\n",
              "<svg xmlns=\"http://www.w3.org/2000/svg\" height=\"24px\"viewBox=\"0 0 24 24\"\n",
              "     width=\"24px\">\n",
              "    <g>\n",
              "        <path d=\"M19 3H5c-1.1 0-2 .9-2 2v14c0 1.1.9 2 2 2h14c1.1 0 2-.9 2-2V5c0-1.1-.9-2-2-2zM9 17H7v-7h2v7zm4 0h-2V7h2v10zm4 0h-2v-4h2v4z\"/>\n",
              "    </g>\n",
              "</svg>\n",
              "  </button>\n",
              "\n",
              "<style>\n",
              "  .colab-df-quickchart {\n",
              "      --bg-color: #E8F0FE;\n",
              "      --fill-color: #1967D2;\n",
              "      --hover-bg-color: #E2EBFA;\n",
              "      --hover-fill-color: #174EA6;\n",
              "      --disabled-fill-color: #AAA;\n",
              "      --disabled-bg-color: #DDD;\n",
              "  }\n",
              "\n",
              "  [theme=dark] .colab-df-quickchart {\n",
              "      --bg-color: #3B4455;\n",
              "      --fill-color: #D2E3FC;\n",
              "      --hover-bg-color: #434B5C;\n",
              "      --hover-fill-color: #FFFFFF;\n",
              "      --disabled-bg-color: #3B4455;\n",
              "      --disabled-fill-color: #666;\n",
              "  }\n",
              "\n",
              "  .colab-df-quickchart {\n",
              "    background-color: var(--bg-color);\n",
              "    border: none;\n",
              "    border-radius: 50%;\n",
              "    cursor: pointer;\n",
              "    display: none;\n",
              "    fill: var(--fill-color);\n",
              "    height: 32px;\n",
              "    padding: 0;\n",
              "    width: 32px;\n",
              "  }\n",
              "\n",
              "  .colab-df-quickchart:hover {\n",
              "    background-color: var(--hover-bg-color);\n",
              "    box-shadow: 0 1px 2px rgba(60, 64, 67, 0.3), 0 1px 3px 1px rgba(60, 64, 67, 0.15);\n",
              "    fill: var(--button-hover-fill-color);\n",
              "  }\n",
              "\n",
              "  .colab-df-quickchart-complete:disabled,\n",
              "  .colab-df-quickchart-complete:disabled:hover {\n",
              "    background-color: var(--disabled-bg-color);\n",
              "    fill: var(--disabled-fill-color);\n",
              "    box-shadow: none;\n",
              "  }\n",
              "\n",
              "  .colab-df-spinner {\n",
              "    border: 2px solid var(--fill-color);\n",
              "    border-color: transparent;\n",
              "    border-bottom-color: var(--fill-color);\n",
              "    animation:\n",
              "      spin 1s steps(1) infinite;\n",
              "  }\n",
              "\n",
              "  @keyframes spin {\n",
              "    0% {\n",
              "      border-color: transparent;\n",
              "      border-bottom-color: var(--fill-color);\n",
              "      border-left-color: var(--fill-color);\n",
              "    }\n",
              "    20% {\n",
              "      border-color: transparent;\n",
              "      border-left-color: var(--fill-color);\n",
              "      border-top-color: var(--fill-color);\n",
              "    }\n",
              "    30% {\n",
              "      border-color: transparent;\n",
              "      border-left-color: var(--fill-color);\n",
              "      border-top-color: var(--fill-color);\n",
              "      border-right-color: var(--fill-color);\n",
              "    }\n",
              "    40% {\n",
              "      border-color: transparent;\n",
              "      border-right-color: var(--fill-color);\n",
              "      border-top-color: var(--fill-color);\n",
              "    }\n",
              "    60% {\n",
              "      border-color: transparent;\n",
              "      border-right-color: var(--fill-color);\n",
              "    }\n",
              "    80% {\n",
              "      border-color: transparent;\n",
              "      border-right-color: var(--fill-color);\n",
              "      border-bottom-color: var(--fill-color);\n",
              "    }\n",
              "    90% {\n",
              "      border-color: transparent;\n",
              "      border-bottom-color: var(--fill-color);\n",
              "    }\n",
              "  }\n",
              "</style>\n",
              "\n",
              "  <script>\n",
              "    async function quickchart(key) {\n",
              "      const quickchartButtonEl =\n",
              "        document.querySelector('#' + key + ' button');\n",
              "      quickchartButtonEl.disabled = true;  // To prevent multiple clicks.\n",
              "      quickchartButtonEl.classList.add('colab-df-spinner');\n",
              "      try {\n",
              "        const charts = await google.colab.kernel.invokeFunction(\n",
              "            'suggestCharts', [key], {});\n",
              "      } catch (error) {\n",
              "        console.error('Error during call to suggestCharts:', error);\n",
              "      }\n",
              "      quickchartButtonEl.classList.remove('colab-df-spinner');\n",
              "      quickchartButtonEl.classList.add('colab-df-quickchart-complete');\n",
              "    }\n",
              "    (() => {\n",
              "      let quickchartButtonEl =\n",
              "        document.querySelector('#df-5e053c95-0d26-4970-8ee8-a0fef64c7f70 button');\n",
              "      quickchartButtonEl.style.display =\n",
              "        google.colab.kernel.accessAllowed ? 'block' : 'none';\n",
              "    })();\n",
              "  </script>\n",
              "</div>\n",
              "    </div>\n",
              "  </div>\n"
            ]
          },
          "metadata": {},
          "execution_count": 19
        }
      ],
      "source": [
        "group_df.describe()"
      ]
    },
    {
      "cell_type": "code",
      "execution_count": null,
      "metadata": {
        "colab": {
          "base_uri": "https://localhost:8080/",
          "height": 447
        },
        "id": "tJ7NakLURE-7",
        "outputId": "2ff22d64-0e85-4484-de0e-ce5aeb2171bb"
      },
      "outputs": [
        {
          "output_type": "execute_result",
          "data": {
            "text/plain": [
              "<matplotlib.collections.PathCollection at 0x7d30a0d43b20>"
            ]
          },
          "metadata": {},
          "execution_count": 20
        },
        {
          "output_type": "display_data",
          "data": {
            "text/plain": [
              "<Figure size 640x480 with 1 Axes>"
            ],
            "image/png": "[encoded data removed]"
          },
          "metadata": {}
        }
      ],
      "source": [
        "y= df['numberofoffences']\n",
        "\n",
        "x=df['financialquarter']\n",
        "\n",
        "plt.scatter(x,y)"
      ]
    },
    {
      "cell_type": "markdown",
      "source": [
        "Data Slicing"
      ],
      "metadata": {
        "id": "YEOdWeIg-HbP"
      }
    },
    {
      "cell_type": "code",
      "execution_count": null,
      "metadata": {
        "id": "S1GcGLDmTWGu"
      },
      "outputs": [],
      "source": [
        "covid_condition = df[(df['financialyear'] == '2019/20') | (df['financialyear'] == '2020/21')]"
      ]
    },
    {
      "cell_type": "code",
      "execution_count": null,
      "metadata": {
        "colab": {
          "base_uri": "https://localhost:8080/"
        },
        "id": "EK86LcL0P-LC",
        "outputId": "e17af26f-441f-47e3-d465-a5f3042d53a8"
      },
      "outputs": [
        {
          "output_type": "execute_result",
          "data": {
            "text/plain": [
              "<bound method NDFrame.describe of        financialyear  financialquarter          forcename  \\\n",
              "156338       2019/20                 1  Avon and Somerset   \n",
              "156339       2019/20                 1  Avon and Somerset   \n",
              "156340       2019/20                 1  Avon and Somerset   \n",
              "156341       2019/20                 1  Avon and Somerset   \n",
              "156342       2019/20                 1  Avon and Somerset   \n",
              "...              ...               ...                ...   \n",
              "200159       2020/21                 4          Wiltshire   \n",
              "200160       2020/21                 4          Wiltshire   \n",
              "200161       2020/21                 4          Wiltshire   \n",
              "200162       2020/21                 4          Wiltshire   \n",
              "200163       2020/21                 4          Wiltshire   \n",
              "\n",
              "                                       offencedescription  \\\n",
              "156338                     Absconding from lawful custody   \n",
              "156339      Abuse of children through sexual exploitation   \n",
              "156340      Abuse of position of trust of a sexual nature   \n",
              "156341  Aggravated burglary in a building other than a...   \n",
              "156342   Aggravated burglary in a dwelling (outcome only)   \n",
              "...                                                   ...   \n",
              "200159      Racially or religiously aggravated harassment   \n",
              "200160                                    Sexual grooming   \n",
              "200161                                    Sexual grooming   \n",
              "200162                          Unnatural sexual offences   \n",
              "200163                          Unnatural sexual offences   \n",
              "\n",
              "                                offencegroup  \\\n",
              "156338  Miscellaneous crimes against society   \n",
              "156339                       Sexual offences   \n",
              "156340                       Sexual offences   \n",
              "156341                        Theft offences   \n",
              "156342                        Theft offences   \n",
              "...                                      ...   \n",
              "200159           Violence against the person   \n",
              "200160                       Sexual offences   \n",
              "200161                       Sexual offences   \n",
              "200162                       Sexual offences   \n",
              "200163                       Sexual offences   \n",
              "\n",
              "                             offencesubgroup offencecode  numberofoffences  \\\n",
              "156338  Miscellaneous crimes against society          80                 9   \n",
              "156339                 Other sexual offences          71                 5   \n",
              "156340                 Other sexual offences          73                 0   \n",
              "156341                 Non-domestic burglary          31                 0   \n",
              "156342                     Domestic burglary          29                 0   \n",
              "...                                      ...         ...               ...   \n",
              "200159               Stalking and harassment          8M                 5   \n",
              "200160                 Other sexual offences         88A                 9   \n",
              "200161                 Other sexual offences         88A                 9   \n",
              "200162                 Other sexual offences         88D                 0   \n",
              "200163                 Other sexual offences         88D                 0   \n",
              "\n",
              "                  oldprcoffencegroup                    newonsoffencegroup  \\\n",
              "156338  Other miscellaneous offences  Miscellaneous crimes against society   \n",
              "156339               Sexual offences                       Sexual offences   \n",
              "156340               Sexual offences                       Sexual offences   \n",
              "156341                      Burglary                        Theft offences   \n",
              "156342                      Burglary                        Theft offences   \n",
              "...                              ...                                   ...   \n",
              "200159   Violence against the person           Violence against the person   \n",
              "200160               Sexual offences                       Sexual offences   \n",
              "200161               Sexual offences                       Sexual offences   \n",
              "200162               Sexual offences                       Sexual offences   \n",
              "200163               Sexual offences                       Sexual offences   \n",
              "\n",
              "                       newonssuboffencegroup  \n",
              "156338  Miscellaneous crimes against society  \n",
              "156339                 Other sexual offences  \n",
              "156340                 Other sexual offences  \n",
              "156341                 Non-domestic burglary  \n",
              "156342                     Domestic burglary  \n",
              "...                                      ...  \n",
              "200159               Violence without injury  \n",
              "200160                 Other sexual offences  \n",
              "200161                 Other sexual offences  \n",
              "200162                 Other sexual offences  \n",
              "200163                 Other sexual offences  \n",
              "\n",
              "[42944 rows x 11 columns]>"
            ]
          },
          "metadata": {},
          "execution_count": 25
        }
      ],
      "source": [
        "covid_condition.describe"
      ]
    },
    {
      "cell_type": "code",
      "execution_count": null,
      "metadata": {
        "colab": {
          "base_uri": "https://localhost:8080/"
        },
        "id": "DYXYqu-JYZle",
        "outputId": "9f43ba18-a005-4988-fd88-2f3a0dda915c"
      },
      "outputs": [
        {
          "output_type": "stream",
          "name": "stdout",
          "text": [
            "       financialyear  financialquarter            forcename  \\\n",
            "3588         2012/13                 1  Metropolitan Police   \n",
            "3599         2012/13                 1  Metropolitan Police   \n",
            "3600         2012/13                 1  Metropolitan Police   \n",
            "3613         2012/13                 1  Metropolitan Police   \n",
            "3654         2012/13                 1  Metropolitan Police   \n",
            "...              ...               ...                  ...   \n",
            "248391       2023/24                 1        West Midlands   \n",
            "248400       2023/24                 1       West Yorkshire   \n",
            "248401       2023/24                 1       West Yorkshire   \n",
            "248402       2023/24                 1       West Yorkshire   \n",
            "248403       2023/24                 1       West Yorkshire   \n",
            "\n",
            "                                  offencedescription  \\\n",
            "3588                          Assault without injury   \n",
            "3599    Burglary in a building other than a dwelling   \n",
            "3600                          Burglary in a dwelling   \n",
            "3613                    Criminal damage to a vehicle   \n",
            "3654                                     Other theft   \n",
            "...                                              ...   \n",
            "248391                                    Harassment   \n",
            "248400                           Assault with injury   \n",
            "248401                           Assault with injury   \n",
            "248402                                    Harassment   \n",
            "248403                                    Harassment   \n",
            "\n",
            "                       offencegroup          offencesubgroup offencecode  \\\n",
            "3588    Violence against the person  Violence without injury        105A   \n",
            "3599                 Theft offences    Non-domestic burglary         30A   \n",
            "3600                 Theft offences        Domestic burglary         28A   \n",
            "3613      Criminal damage and arson          Criminal damage         58C   \n",
            "3654                 Theft offences     Other theft offences          49   \n",
            "...                             ...                      ...         ...   \n",
            "248391  Violence against the person  Stalking and harassment          8L   \n",
            "248400  Violence against the person     Violence with injury          8N   \n",
            "248401  Violence against the person     Violence with injury          8N   \n",
            "248402  Violence against the person  Stalking and harassment          8L   \n",
            "248403  Violence against the person  Stalking and harassment          8L   \n",
            "\n",
            "        numberofoffences           oldprcoffencegroup  \\\n",
            "3588                9456  Violence against the person   \n",
            "3599                7289                     Burglary   \n",
            "3600               10703                     Burglary   \n",
            "3613                6823              Criminal damage   \n",
            "3654               27886         Other theft offences   \n",
            "...                  ...                          ...   \n",
            "248391              5147  Violence against the person   \n",
            "248400              6806  Violence against the person   \n",
            "248401              6806  Violence against the person   \n",
            "248402              6447  Violence against the person   \n",
            "248403              6447  Violence against the person   \n",
            "\n",
            "                 newonsoffencegroup     newonssuboffencegroup  \n",
            "3588    Violence against the person   Violence without injury  \n",
            "3599                 Theft offences     Non-domestic burglary  \n",
            "3600                 Theft offences         Domestic burglary  \n",
            "3613      Criminal damage and arson           Criminal damage  \n",
            "3654                 Theft offences  All other theft offences  \n",
            "...                             ...                       ...  \n",
            "248391  Violence against the person   Violence without injury  \n",
            "248400  Violence against the person      Violence with injury  \n",
            "248401  Violence against the person      Violence with injury  \n",
            "248402  Violence against the person   Violence without injury  \n",
            "248403  Violence against the person   Violence without injury  \n",
            "\n",
            "[1141 rows x 11 columns]\n"
          ]
        }
      ],
      "source": [
        "new_cc= df[df['numberofoffences'] >= 5000]\n",
        "print(new_cc)"
      ]
    },
    {
      "cell_type": "markdown",
      "source": [
        "One Hot encoding"
      ],
      "metadata": {
        "id": "M89YJMZZ-Lul"
      }
    },
    {
      "cell_type": "code",
      "execution_count": null,
      "metadata": {
        "id": "4NjKfzLxssQV"
      },
      "outputs": [],
      "source": [
        "df_encoded = pd.get_dummies(new_cc, columns=['offencecode'], prefix='offencecode')"
      ]
    },
    {
      "cell_type": "code",
      "execution_count": null,
      "metadata": {
        "id": "BT5H2KitsxJQ"
      },
      "outputs": [],
      "source": [
        "df_encoded = pd.get_dummies(new_cc, columns=['financialyear'], prefix='financialyear')"
      ]
    },
    {
      "cell_type": "code",
      "execution_count": null,
      "metadata": {
        "id": "xnTqoL-Gs5AD"
      },
      "outputs": [],
      "source": [
        "df_encoded = pd.get_dummies(new_cc, columns=['forcename'], prefix='forcename')"
      ]
    },
    {
      "cell_type": "markdown",
      "source": [
        "Feature Selection"
      ],
      "metadata": {
        "id": "TuBPgQwp-N7E"
      }
    },
    {
      "cell_type": "code",
      "execution_count": null,
      "metadata": {
        "id": "IgRGV2eTtFSs"
      },
      "outputs": [],
      "source": [
        "X = new_cc[['financialyear', 'offencecode', 'forcename']]\n",
        "Y= new_cc['numberofoffences']"
      ]
    },
    {
      "cell_type": "code",
      "execution_count": null,
      "metadata": {
        "id": "NxsheDnKiMtF"
      },
      "outputs": [],
      "source": [
        "X = pd.get_dummies(data=X, drop_first=True)"
      ]
    },
    {
      "cell_type": "markdown",
      "source": [
        "Splitting Data"
      ],
      "metadata": {
        "id": "IalBssg5-RBU"
      }
    },
    {
      "cell_type": "code",
      "execution_count": null,
      "metadata": {
        "id": "7_AO41R-WUVU"
      },
      "outputs": [],
      "source": [
        "X_train, X_test,Y_train, Y_test = train_test_split(X,Y, train_size = 0.8, random_state=42)"
      ]
    },
    {
      "cell_type": "code",
      "execution_count": null,
      "metadata": {
        "colab": {
          "base_uri": "https://localhost:8080/",
          "height": 273
        },
        "id": "mxQk7mHzWd7Z",
        "outputId": "684e454a-fbbc-4a4b-8299-2ca7e28fef6c"
      },
      "outputs": [
        {
          "output_type": "execute_result",
          "data": {
            "text/plain": [
              "        financialyear_2013/14  financialyear_2014/15  financialyear_2015/16  \\\n",
              "154347                      0                      0                      0   \n",
              "156128                      0                      0                      0   \n",
              "234060                      0                      0                      0   \n",
              "109204                      0                      0                      0   \n",
              "213597                      0                      0                      0   \n",
              "\n",
              "        financialyear_2016/17  financialyear_2017/18  financialyear_2018/19  \\\n",
              "154347                      0                      0                      1   \n",
              "156128                      0                      0                      1   \n",
              "234060                      0                      0                      0   \n",
              "109204                      1                      0                      0   \n",
              "213597                      0                      0                      0   \n",
              "\n",
              "        financialyear_2019/20  financialyear_2020/21  financialyear_2021/22  \\\n",
              "154347                      0                      0                      0   \n",
              "156128                      0                      0                      0   \n",
              "234060                      0                      0                      0   \n",
              "109204                      0                      0                      0   \n",
              "213597                      0                      0                      1   \n",
              "\n",
              "        financialyear_2022/23  ...  forcename_Essex  \\\n",
              "154347                      0  ...                0   \n",
              "156128                      0  ...                0   \n",
              "234060                      1  ...                0   \n",
              "109204                      0  ...                0   \n",
              "213597                      0  ...                0   \n",
              "\n",
              "        forcename_Greater Manchester  forcename_Hampshire  forcename_Kent  \\\n",
              "154347                             0                    0               0   \n",
              "156128                             0                    0               0   \n",
              "234060                             0                    1               0   \n",
              "109204                             0                    0               0   \n",
              "213597                             0                    0               0   \n",
              "\n",
              "        forcename_Lancashire  forcename_Merseyside  \\\n",
              "154347                     0                     0   \n",
              "156128                     0                     0   \n",
              "234060                     0                     0   \n",
              "109204                     0                     0   \n",
              "213597                     0                     1   \n",
              "\n",
              "        forcename_Metropolitan Police  forcename_Thames Valley  \\\n",
              "154347                              1                        0   \n",
              "156128                              0                        0   \n",
              "234060                              0                        0   \n",
              "109204                              1                        0   \n",
              "213597                              0                        0   \n",
              "\n",
              "        forcename_West Midlands  forcename_West Yorkshire  \n",
              "154347                        0                         0  \n",
              "156128                        0                         1  \n",
              "234060                        0                         0  \n",
              "109204                        0                         0  \n",
              "213597                        0                         0  \n",
              "\n",
              "[5 rows x 37 columns]"
            ],
            "text/html": [
              "\n",
              "  <div id=\"df-b297d120-6537-4fbc-a747-d517f04a352e\" class=\"colab-df-container\">\n",
              "    <div>\n",
              "<style scoped>\n",
              "    .dataframe tbody tr th:only-of-type {\n",
              "        vertical-align: middle;\n",
              "    }\n",
              "\n",
              "    .dataframe tbody tr th {\n",
              "        vertical-align: top;\n",
              "    }\n",
              "\n",
              "    .dataframe thead th {\n",
              "        text-align: right;\n",
              "    }\n",
              "</style>\n",
              "<table border=\"1\" class=\"dataframe\">\n",
              "  <thead>\n",
              "    <tr style=\"text-align: right;\">\n",
              "      <th></th>\n",
              "      <th>financialyear_2013/14</th>\n",
              "      <th>financialyear_2014/15</th>\n",
              "      <th>financialyear_2015/16</th>\n",
              "      <th>financialyear_2016/17</th>\n",
              "      <th>financialyear_2017/18</th>\n",
              "      <th>financialyear_2018/19</th>\n",
              "      <th>financialyear_2019/20</th>\n",
              "      <th>financialyear_2020/21</th>\n",
              "      <th>financialyear_2021/22</th>\n",
              "      <th>financialyear_2022/23</th>\n",
              "      <th>...</th>\n",
              "      <th>forcename_Essex</th>\n",
              "      <th>forcename_Greater Manchester</th>\n",
              "      <th>forcename_Hampshire</th>\n",
              "      <th>forcename_Kent</th>\n",
              "      <th>forcename_Lancashire</th>\n",
              "      <th>forcename_Merseyside</th>\n",
              "      <th>forcename_Metropolitan Police</th>\n",
              "      <th>forcename_Thames Valley</th>\n",
              "      <th>forcename_West Midlands</th>\n",
              "      <th>forcename_West Yorkshire</th>\n",
              "    </tr>\n",
              "  </thead>\n",
              "  <tbody>\n",
              "    <tr>\n",
              "      <th>154347</th>\n",
              "      <td>0</td>\n",
              "      <td>0</td>\n",
              "      <td>0</td>\n",
              "      <td>0</td>\n",
              "      <td>0</td>\n",
              "      <td>1</td>\n",
              "      <td>0</td>\n",
              "      <td>0</td>\n",
              "      <td>0</td>\n",
              "      <td>0</td>\n",
              "      <td>...</td>\n",
              "      <td>0</td>\n",
              "      <td>0</td>\n",
              "      <td>0</td>\n",
              "      <td>0</td>\n",
              "      <td>0</td>\n",
              "      <td>0</td>\n",
              "      <td>1</td>\n",
              "      <td>0</td>\n",
              "      <td>0</td>\n",
              "      <td>0</td>\n",
              "    </tr>\n",
              "    <tr>\n",
              "      <th>156128</th>\n",
              "      <td>0</td>\n",
              "      <td>0</td>\n",
              "      <td>0</td>\n",
              "      <td>0</td>\n",
              "      <td>0</td>\n",
              "      <td>1</td>\n",
              "      <td>0</td>\n",
              "      <td>0</td>\n",
              "      <td>0</td>\n",
              "      <td>0</td>\n",
              "      <td>...</td>\n",
              "      <td>0</td>\n",
              "      <td>0</td>\n",
              "      <td>0</td>\n",
              "      <td>0</td>\n",
              "      <td>0</td>\n",
              "      <td>0</td>\n",
              "      <td>0</td>\n",
              "      <td>0</td>\n",
              "      <td>0</td>\n",
              "      <td>1</td>\n",
              "    </tr>\n",
              "    <tr>\n",
              "      <th>234060</th>\n",
              "      <td>0</td>\n",
              "      <td>0</td>\n",
              "      <td>0</td>\n",
              "      <td>0</td>\n",
              "      <td>0</td>\n",
              "      <td>0</td>\n",
              "      <td>0</td>\n",
              "      <td>0</td>\n",
              "      <td>0</td>\n",
              "      <td>1</td>\n",
              "      <td>...</td>\n",
              "      <td>0</td>\n",
              "      <td>0</td>\n",
              "      <td>1</td>\n",
              "      <td>0</td>\n",
              "      <td>0</td>\n",
              "      <td>0</td>\n",
              "      <td>0</td>\n",
              "      <td>0</td>\n",
              "      <td>0</td>\n",
              "      <td>0</td>\n",
              "    </tr>\n",
              "    <tr>\n",
              "      <th>109204</th>\n",
              "      <td>0</td>\n",
              "      <td>0</td>\n",
              "      <td>0</td>\n",
              "      <td>1</td>\n",
              "      <td>0</td>\n",
              "      <td>0</td>\n",
              "      <td>0</td>\n",
              "      <td>0</td>\n",
              "      <td>0</td>\n",
              "      <td>0</td>\n",
              "      <td>...</td>\n",
              "      <td>0</td>\n",
              "      <td>0</td>\n",
              "      <td>0</td>\n",
              "      <td>0</td>\n",
              "      <td>0</td>\n",
              "      <td>0</td>\n",
              "      <td>1</td>\n",
              "      <td>0</td>\n",
              "      <td>0</td>\n",
              "      <td>0</td>\n",
              "    </tr>\n",
              "    <tr>\n",
              "      <th>213597</th>\n",
              "      <td>0</td>\n",
              "      <td>0</td>\n",
              "      <td>0</td>\n",
              "      <td>0</td>\n",
              "      <td>0</td>\n",
              "      <td>0</td>\n",
              "      <td>0</td>\n",
              "      <td>0</td>\n",
              "      <td>1</td>\n",
              "      <td>0</td>\n",
              "      <td>...</td>\n",
              "      <td>0</td>\n",
              "      <td>0</td>\n",
              "      <td>0</td>\n",
              "      <td>0</td>\n",
              "      <td>0</td>\n",
              "      <td>1</td>\n",
              "      <td>0</td>\n",
              "      <td>0</td>\n",
              "      <td>0</td>\n",
              "      <td>0</td>\n",
              "    </tr>\n",
              "  </tbody>\n",
              "</table>\n",
              "<p>5 rows × 37 columns</p>\n",
              "</div>\n",
              "    <div class=\"colab-df-buttons\">\n",
              "\n",
              "  <div class=\"colab-df-container\">\n",
              "    <button class=\"colab-df-convert\" onclick=\"convertToInteractive('df-b297d120-6537-4fbc-a747-d517f04a352e')\"\n",
              "            title=\"Convert this dataframe to an interactive table.\"\n",
              "            style=\"display:none;\">\n",
              "\n",
              "  <svg xmlns=\"http://www.w3.org/2000/svg\" height=\"24px\" viewBox=\"0 -960 960 960\">\n",
              "    <path d=\"M120-120v-720h720v720H120Zm60-500h600v-160H180v160Zm220 220h160v-160H400v160Zm0 220h160v-160H400v160ZM180-400h160v-160H180v160Zm440 0h160v-160H620v160ZM180-180h160v-160H180v160Zm440 0h160v-160H620v160Z\"/>\n",
              "  </svg>\n",
              "    </button>\n",
              "\n",
              "  <style>\n",
              "    .colab-df-container {\n",
              "      display:flex;\n",
              "      gap: 12px;\n",
              "    }\n",
              "\n",
              "    .colab-df-convert {\n",
              "      background-color: #E8F0FE;\n",
              "      border: none;\n",
              "      border-radius: 50%;\n",
              "      cursor: pointer;\n",
              "      display: none;\n",
              "      fill: #1967D2;\n",
              "      height: 32px;\n",
              "      padding: 0 0 0 0;\n",
              "      width: 32px;\n",
              "    }\n",
              "\n",
              "    .colab-df-convert:hover {\n",
              "      background-color: #E2EBFA;\n",
              "      box-shadow: 0px 1px 2px rgba(60, 64, 67, 0.3), 0px 1px 3px 1px rgba(60, 64, 67, 0.15);\n",
              "      fill: #174EA6;\n",
              "    }\n",
              "\n",
              "    .colab-df-buttons div {\n",
              "      margin-bottom: 4px;\n",
              "    }\n",
              "\n",
              "    [theme=dark] .colab-df-convert {\n",
              "      background-color: #3B4455;\n",
              "      fill: #D2E3FC;\n",
              "    }\n",
              "\n",
              "    [theme=dark] .colab-df-convert:hover {\n",
              "      background-color: #434B5C;\n",
              "      box-shadow: 0px 1px 3px 1px rgba(0, 0, 0, 0.15);\n",
              "      filter: drop-shadow(0px 1px 2px rgba(0, 0, 0, 0.3));\n",
              "      fill: #FFFFFF;\n",
              "    }\n",
              "  </style>\n",
              "\n",
              "    <script>\n",
              "      const buttonEl =\n",
              "        document.querySelector('#df-b297d120-6537-4fbc-a747-d517f04a352e button.colab-df-convert');\n",
              "      buttonEl.style.display =\n",
              "        google.colab.kernel.accessAllowed ? 'block' : 'none';\n",
              "\n",
              "      async function convertToInteractive(key) {\n",
              "        const element = document.querySelector('#df-b297d120-6537-4fbc-a747-d517f04a352e');\n",
              "        const dataTable =\n",
              "          await google.colab.kernel.invokeFunction('convertToInteractive',\n",
              "                                                    [key], {});\n",
              "        if (!dataTable) return;\n",
              "\n",
              "        const docLinkHtml = 'Like what you see? Visit the ' +\n",
              "          '<a target=\"_blank\" href=https://colab.research.google.com/notebooks/data_table.ipynb>data table notebook</a>'\n",
              "          + ' to learn more about interactive tables.';\n",
              "        element.innerHTML = '';\n",
              "        dataTable['output_type'] = 'display_data';\n",
              "        await google.colab.output.renderOutput(dataTable, element);\n",
              "        const docLink = document.createElement('div');\n",
              "        docLink.innerHTML = docLinkHtml;\n",
              "        element.appendChild(docLink);\n",
              "      }\n",
              "    </script>\n",
              "  </div>\n",
              "\n",
              "\n",
              "<div id=\"df-0c6c3e0e-6541-4dc9-b28e-bf88d94a80b1\">\n",
              "  <button class=\"colab-df-quickchart\" onclick=\"quickchart('df-0c6c3e0e-6541-4dc9-b28e-bf88d94a80b1')\"\n",
              "            title=\"Suggest charts\"\n",
              "            style=\"display:none;\">\n",
              "\n",
              "<svg xmlns=\"http://www.w3.org/2000/svg\" height=\"24px\"viewBox=\"0 0 24 24\"\n",
              "     width=\"24px\">\n",
              "    <g>\n",
              "        <path d=\"M19 3H5c-1.1 0-2 .9-2 2v14c0 1.1.9 2 2 2h14c1.1 0 2-.9 2-2V5c0-1.1-.9-2-2-2zM9 17H7v-7h2v7zm4 0h-2V7h2v10zm4 0h-2v-4h2v4z\"/>\n",
              "    </g>\n",
              "</svg>\n",
              "  </button>\n",
              "\n",
              "<style>\n",
              "  .colab-df-quickchart {\n",
              "      --bg-color: #E8F0FE;\n",
              "      --fill-color: #1967D2;\n",
              "      --hover-bg-color: #E2EBFA;\n",
              "      --hover-fill-color: #174EA6;\n",
              "      --disabled-fill-color: #AAA;\n",
              "      --disabled-bg-color: #DDD;\n",
              "  }\n",
              "\n",
              "  [theme=dark] .colab-df-quickchart {\n",
              "      --bg-color: #3B4455;\n",
              "      --fill-color: #D2E3FC;\n",
              "      --hover-bg-color: #434B5C;\n",
              "      --hover-fill-color: #FFFFFF;\n",
              "      --disabled-bg-color: #3B4455;\n",
              "      --disabled-fill-color: #666;\n",
              "  }\n",
              "\n",
              "  .colab-df-quickchart {\n",
              "    background-color: var(--bg-color);\n",
              "    border: none;\n",
              "    border-radius: 50%;\n",
              "    cursor: pointer;\n",
              "    display: none;\n",
              "    fill: var(--fill-color);\n",
              "    height: 32px;\n",
              "    padding: 0;\n",
              "    width: 32px;\n",
              "  }\n",
              "\n",
              "  .colab-df-quickchart:hover {\n",
              "    background-color: var(--hover-bg-color);\n",
              "    box-shadow: 0 1px 2px rgba(60, 64, 67, 0.3), 0 1px 3px 1px rgba(60, 64, 67, 0.15);\n",
              "    fill: var(--button-hover-fill-color);\n",
              "  }\n",
              "\n",
              "  .colab-df-quickchart-complete:disabled,\n",
              "  .colab-df-quickchart-complete:disabled:hover {\n",
              "    background-color: var(--disabled-bg-color);\n",
              "    fill: var(--disabled-fill-color);\n",
              "    box-shadow: none;\n",
              "  }\n",
              "\n",
              "  .colab-df-spinner {\n",
              "    border: 2px solid var(--fill-color);\n",
              "    border-color: transparent;\n",
              "    border-bottom-color: var(--fill-color);\n",
              "    animation:\n",
              "      spin 1s steps(1) infinite;\n",
              "  }\n",
              "\n",
              "  @keyframes spin {\n",
              "    0% {\n",
              "      border-color: transparent;\n",
              "      border-bottom-color: var(--fill-color);\n",
              "      border-left-color: var(--fill-color);\n",
              "    }\n",
              "    20% {\n",
              "      border-color: transparent;\n",
              "      border-left-color: var(--fill-color);\n",
              "      border-top-color: var(--fill-color);\n",
              "    }\n",
              "    30% {\n",
              "      border-color: transparent;\n",
              "      border-left-color: var(--fill-color);\n",
              "      border-top-color: var(--fill-color);\n",
              "      border-right-color: var(--fill-color);\n",
              "    }\n",
              "    40% {\n",
              "      border-color: transparent;\n",
              "      border-right-color: var(--fill-color);\n",
              "      border-top-color: var(--fill-color);\n",
              "    }\n",
              "    60% {\n",
              "      border-color: transparent;\n",
              "      border-right-color: var(--fill-color);\n",
              "    }\n",
              "    80% {\n",
              "      border-color: transparent;\n",
              "      border-right-color: var(--fill-color);\n",
              "      border-bottom-color: var(--fill-color);\n",
              "    }\n",
              "    90% {\n",
              "      border-color: transparent;\n",
              "      border-bottom-color: var(--fill-color);\n",
              "    }\n",
              "  }\n",
              "</style>\n",
              "\n",
              "  <script>\n",
              "    async function quickchart(key) {\n",
              "      const quickchartButtonEl =\n",
              "        document.querySelector('#' + key + ' button');\n",
              "      quickchartButtonEl.disabled = true;  // To prevent multiple clicks.\n",
              "      quickchartButtonEl.classList.add('colab-df-spinner');\n",
              "      try {\n",
              "        const charts = await google.colab.kernel.invokeFunction(\n",
              "            'suggestCharts', [key], {});\n",
              "      } catch (error) {\n",
              "        console.error('Error during call to suggestCharts:', error);\n",
              "      }\n",
              "      quickchartButtonEl.classList.remove('colab-df-spinner');\n",
              "      quickchartButtonEl.classList.add('colab-df-quickchart-complete');\n",
              "    }\n",
              "    (() => {\n",
              "      let quickchartButtonEl =\n",
              "        document.querySelector('#df-0c6c3e0e-6541-4dc9-b28e-bf88d94a80b1 button');\n",
              "      quickchartButtonEl.style.display =\n",
              "        google.colab.kernel.accessAllowed ? 'block' : 'none';\n",
              "    })();\n",
              "  </script>\n",
              "</div>\n",
              "    </div>\n",
              "  </div>\n"
            ]
          },
          "metadata": {},
          "execution_count": 33
        }
      ],
      "source": [
        "X_train.head()"
      ]
    },
    {
      "cell_type": "code",
      "execution_count": null,
      "metadata": {
        "colab": {
          "base_uri": "https://localhost:8080/"
        },
        "id": "yAVJHCy7Wneq",
        "outputId": "48cb5b81-3436-4a91-e56a-d860997b3532"
      },
      "outputs": [
        {
          "output_type": "execute_result",
          "data": {
            "text/plain": [
              "(912, 37)"
            ]
          },
          "metadata": {},
          "execution_count": 34
        }
      ],
      "source": [
        "X_train.shape"
      ]
    },
    {
      "cell_type": "markdown",
      "source": [
        "Fitting the data into model"
      ],
      "metadata": {
        "id": "623chrjY-iho"
      }
    },
    {
      "cell_type": "code",
      "execution_count": null,
      "metadata": {
        "id": "qTnKLRa7Wvu9"
      },
      "outputs": [],
      "source": [
        "reg= linear_model.LinearRegression()"
      ]
    },
    {
      "cell_type": "code",
      "execution_count": null,
      "metadata": {
        "id": "G6gKNgC3W1Jo"
      },
      "outputs": [],
      "source": [
        "model = reg.fit(X_train, Y_train)"
      ]
    },
    {
      "cell_type": "code",
      "execution_count": null,
      "metadata": {
        "id": "ssMv5uHPdi1H"
      },
      "outputs": [],
      "source": [
        "predict_Y = model.predict(X_test)"
      ]
    },
    {
      "cell_type": "code",
      "execution_count": null,
      "metadata": {
        "colab": {
          "base_uri": "https://localhost:8080/"
        },
        "id": "4TXEzSjndo41",
        "outputId": "d93be252-6fef-4add-b79b-f37699e9aef1"
      },
      "outputs": [
        {
          "output_type": "execute_result",
          "data": {
            "text/plain": [
              "array([ 8385.82697867,  9325.38562141, 12086.41991323, 17228.93491479,\n",
              "        6084.4253163 ,  5727.31469802,  6875.12091177,  8363.41330896,\n",
              "        6787.24950618,  6374.61667963,  2591.36205016, 13303.31400444,\n",
              "       15953.2983905 ,  1170.75143196,  8445.9112831 , 12280.49580389,\n",
              "        5321.04328166,  8120.34494224,  9009.51790339, 14638.06621777,\n",
              "        9630.51141784,  8150.75743606,  8371.47653546,  9455.05756137,\n",
              "       18771.51277219,  8363.41330896,  8735.70547464,  6411.97530325,\n",
              "        7420.14614502,  5237.98250979,  5470.36055619,  8456.42282379,\n",
              "        2433.2510229 ,  3197.37938035,  7397.84289148,  6689.77474567,\n",
              "       20204.26072788,  4281.65682409, 12441.31542188,  7128.08371971,\n",
              "        6084.4253163 ,  7495.86961431, 21519.4929006 , 18771.51277219,\n",
              "        8561.0324981 ,  9509.64919728, 13303.31400444,  7925.10037856,\n",
              "       12360.79573893,  6346.56195032,  6585.85196702,  6815.03660734,\n",
              "        6653.25440607,  8561.0324981 ,  6787.24950618,  9526.40327226,\n",
              "       10237.71390896,  9836.66902239,  5923.41758308,  8062.88603047,\n",
              "        2591.36205016, 11045.78331411, 15541.41057639, 19745.70990868,\n",
              "       16051.32511333,  4973.56621532,  7397.84289148,  6794.60122882,\n",
              "        8558.31880684,  7514.11277183,  6875.12091177,  8713.37696562,\n",
              "        6595.70871728, 16289.37627205,  7000.20615791, 11865.32787558,\n",
              "       14179.51539858,  6794.60122882,  5381.12758609, 11303.76356563,\n",
              "       14718.58590072, 14265.77405209, 15913.70274206,  4473.01590464,\n",
              "        6346.56195032,  2944.53442388, 15236.84658801,  4893.04653237,\n",
              "       14480.95478638, 14179.51539858,  7420.14614502,  6567.48089891,\n",
              "       14718.58590072, 11303.76356563,  7733.92077304,  6815.03660734,\n",
              "       10016.62187131,  7733.8813791 ,  6084.4253163 , 10315.17202307,\n",
              "        3929.36018031,  5725.47874762,  4201.13714114, 14638.06621777,\n",
              "        9483.49664867,  5923.41758308,  8445.9112831 ,  4201.13714114,\n",
              "        7282.68228255,  8498.2345024 ,  7282.68228255, 20204.26072788,\n",
              "        7413.00308602, 12512.46553987,  4374.41140874,  4374.41140874,\n",
              "        7326.32000832,  4479.83708607,  5725.47874762, 18869.50851455,\n",
              "       10592.97146549, 19333.07708214, 17565.01279634, 14778.29576881,\n",
              "       12277.96070213,  6155.02116142,  7245.80032537,  3280.61230543,\n",
              "        5476.77366543,  8090.67313163,  9661.46350296, 10237.71390896,\n",
              "        5701.55107738, 16289.37627205,  4913.48191088, 13902.09437468,\n",
              "        7514.11277183,  3929.36018031, 15953.2983905 ,  2944.53442388,\n",
              "        7360.06184059,  7844.58069561,  9721.54780739,  9509.64919728,\n",
              "        9553.05330373, 15126.1472715 , 18771.51277219, 10211.0638775 ,\n",
              "        5516.36931387,  8371.47653546,  7336.28403946,  9428.4075299 ,\n",
              "        6815.03660734, 14586.75497991, 14179.51539858,  7302.95751895,\n",
              "        2829.41320888,  6734.51692439,  7326.32000832,  7282.68228255,\n",
              "       12277.96070213,  8563.01732436, 19554.16911979, 19554.16911979,\n",
              "        8150.38449781,  8897.11037965,  7062.06691134,  7142.58659429,\n",
              "        5426.46895898, 12616.57368544,  6284.58271774,  6794.60122882,\n",
              "        7142.58659429, 18869.50851455, 11865.32787558, 11349.23653931,\n",
              "        7098.23288074, 10016.62187131,  4880.57727542,  7551.60262949,\n",
              "        6783.47419781, 14265.77405209,  2531.27774573,  9455.05756137,\n",
              "        6200.44255744,  8109.83340155,  3468.88959319,  5701.55107738,\n",
              "        6815.03660734, 10941.67516854, 16888.15664229, 16401.78379579,\n",
              "        6200.44255744,  7026.0317181 ,  3197.37938035, 21617.51962343,\n",
              "        7611.68693392,  8456.42282379, 12176.38765832, 12176.38765832,\n",
              "        5707.72839442,  7326.32000832, 10488.86331991,  6411.97530325,\n",
              "        8677.34177238, 14578.95052873,  6595.70871728,  6374.61667963,\n",
              "        7293.19382324,  9526.40327226,  7588.82018787,  6653.25440607,\n",
              "        6787.24950618,  9836.66902239, 12817.03120427,  8371.47653546,\n",
              "        7000.20615791,  8085.61386654,  8070.23775311,  5701.55107738,\n",
              "        8371.47653546, 15913.70274206, 20284.78041083,  5237.98250979,\n",
              "       13987.97460968, 18869.50851455, 10941.67516854, 14638.06621777,\n",
              "       11928.41926882])"
            ]
          },
          "metadata": {},
          "execution_count": 38
        }
      ],
      "source": [
        "predict_Y"
      ]
    },
    {
      "cell_type": "code",
      "execution_count": null,
      "metadata": {
        "colab": {
          "base_uri": "https://localhost:8080/"
        },
        "id": "7Hh89W7XdtoY",
        "outputId": "6c060129-51f5-47ff-f448-69de88bc4050"
      },
      "outputs": [
        {
          "output_type": "execute_result",
          "data": {
            "text/plain": [
              "0.8053440768492776"
            ]
          },
          "metadata": {},
          "execution_count": 39
        }
      ],
      "source": [
        "model.score(X_test, Y_test)"
      ]
    },
    {
      "cell_type": "code",
      "execution_count": null,
      "metadata": {
        "colab": {
          "base_uri": "https://localhost:8080/",
          "height": 505
        },
        "id": "BJu8xW3_kPf_",
        "outputId": "edbecc91-a7f6-4476-b572-3699425dfa4e"
      },
      "outputs": [
        {
          "output_type": "display_data",
          "data": {
            "text/plain": [
              "<Figure size 1800x1000 with 1 Axes>"
            ],
            "image/png": "[encoded data removed]"
          },
          "metadata": {}
        }
      ],
      "source": [
        "plt.figure(figsize=(18,10))\n",
        "x_axis=range(len(Y_test))\n",
        "plt.plot(x_axis, Y_test, label='number of offences')\n",
        "plt.plot(x_axis, predict_Y, label='predicted')\n",
        "plt.title('Number of offences during COVID years')\n",
        "plt.legend()\n",
        "plt.show()"
      ]
    },
    {
      "cell_type": "markdown",
      "source": [
        "Metrics"
      ],
      "metadata": {
        "id": "0giAm4hf-m0X"
      }
    },
    {
      "cell_type": "code",
      "execution_count": null,
      "metadata": {
        "colab": {
          "base_uri": "https://localhost:8080/"
        },
        "id": "2c-cOjnTphO1",
        "outputId": "ff26fbcb-7a00-4c65-cf36-2fc42718aaf2"
      },
      "outputs": [
        {
          "output_type": "stream",
          "name": "stdout",
          "text": [
            "Mean squared error 4920441.051382354\n",
            "Mean absolute error 1611.363986490939\n",
            "Root mean squared error 2218.2067197135516\n"
          ]
        }
      ],
      "source": [
        "from sklearn import metrics\n",
        "\n",
        "print(\"Mean squared error\", metrics.mean_squared_error(Y_test, predict_Y))\n",
        "print('Mean absolute error', metrics.mean_absolute_error(Y_test, predict_Y))\n",
        "print('Root mean squared error', np.sqrt(metrics.mean_squared_error(Y_test, predict_Y)))"
      ]
    },
    {
      "cell_type": "code",
      "execution_count": null,
      "metadata": {
        "id": "HuSIu8i5pMdP"
      },
      "outputs": [],
      "source": [
        "from sklearn.metrics import mean_squared_error, r2_score"
      ]
    },
    {
      "cell_type": "code",
      "execution_count": null,
      "metadata": {
        "colab": {
          "base_uri": "https://localhost:8080/"
        },
        "id": "AzoVKaWWpFZm",
        "outputId": "6e79804b-0b94-4d3d-9fe3-ac6f5426f8e8"
      },
      "outputs": [
        {
          "output_type": "stream",
          "name": "stdout",
          "text": [
            "Coefficient of determination: 0.8053440768492776\n"
          ]
        }
      ],
      "source": [
        "print(\"Coefficient of determination:\", r2_score(Y_test, predict_Y))"
      ]
    },
    {
      "cell_type": "code",
      "execution_count": null,
      "metadata": {
        "id": "Hafwl_-tk1r2"
      },
      "outputs": [],
      "source": [
        "##LOGISTIC REGRESSION\n",
        "import statsmodels.api as sm\n",
        "import matplotlib.pyplot as plt\n",
        "import seaborn as sns\n",
        "from sklearn import metrics\n",
        "from patsy import dmatrices\n",
        "from sklearn.linear_model import LogisticRegression\n",
        "from sklearn.model_selection import train_test_split\n",
        "from sklearn import datasets\n",
        "from sklearn import svm\n",
        "from sklearn.model_selection import cross_val_score\n",
        "from sklearn.preprocessing import LabelEncoder, OneHotEncoder\n"
      ]
    },
    {
      "cell_type": "code",
      "execution_count": null,
      "metadata": {
        "id": "cjlVz8KJmHF4"
      },
      "outputs": [],
      "source": [
        "condition_1 = df['financialquarter'] == 1\n",
        "condition_2 = df['financialquarter'] == 2\n",
        "condition_3 = df['financialquarter'] == 3\n",
        "condition_4 = df['financialquarter'] == 4\n",
        "\n",
        "# Create new DataFrames for each slice\n",
        "df_finquart1 = df[condition_1].copy()\n",
        "df_finquart2 = df[condition_2].copy()\n",
        "df_finquart3 = df[condition_3].copy()\n",
        "df_finquart4 = df[condition_4].copy()"
      ]
    },
    {
      "cell_type": "code",
      "execution_count": null,
      "metadata": {
        "id": "0hz7jpYPoq6c"
      },
      "outputs": [],
      "source": [
        "df1_encoded = pd.get_dummies(new_cc, columns=['financialyear'], prefix='financialyear')\n",
        "df1 = df_finquart1 ['numberofoffences']\n",
        "df2 = df_finquart2 ['numberofoffences']\n",
        "df3 = df_finquart3 ['numberofoffences']\n",
        "df4 = df_finquart4 ['numberofoffences']"
      ]
    },
    {
      "cell_type": "code",
      "source": [
        "df_encoded= pd.get_dummies(covid_condition, columns=['offencecode'], prefix='offencecode')"
      ],
      "metadata": {
        "id": "qr-F6g9gkrfR",
        "colab": {
          "base_uri": "https://localhost:8080/",
          "height": 176
        },
        "outputId": "3c53ae98-27cd-4811-895c-fdb2b6a5945f"
      },
      "execution_count": null,
      "outputs": [
        {
          "output_type": "error",
          "ename": "NameError",
          "evalue": "name 'pd' is not defined",
          "traceback": [
            "\u001b[0;31m---------------------------------------------------------------------------\u001b[0m",
            "\u001b[0;31mNameError\u001b[0m                                 Traceback (most recent call last)",
            "\u001b[0;32m<ipython-input-1-05dc8e6a4846>\u001b[0m in \u001b[0;36m<cell line: 1>\u001b[0;34m()\u001b[0m\n\u001b[0;32m----> 1\u001b[0;31m \u001b[0mdf_encoded\u001b[0m\u001b[0;34m=\u001b[0m \u001b[0mpd\u001b[0m\u001b[0;34m.\u001b[0m\u001b[0mget_dummies\u001b[0m\u001b[0;34m(\u001b[0m\u001b[0mcovid_condition\u001b[0m\u001b[0;34m,\u001b[0m \u001b[0mcolumns\u001b[0m\u001b[0;34m=\u001b[0m\u001b[0;34m[\u001b[0m\u001b[0;34m'offencecode'\u001b[0m\u001b[0;34m]\u001b[0m\u001b[0;34m,\u001b[0m \u001b[0mprefix\u001b[0m\u001b[0;34m=\u001b[0m\u001b[0;34m'offencecode'\u001b[0m\u001b[0;34m)\u001b[0m\u001b[0;34m\u001b[0m\u001b[0;34m\u001b[0m\u001b[0m\n\u001b[0m",
            "\u001b[0;31mNameError\u001b[0m: name 'pd' is not defined"
          ]
        }
      ]
    },
    {
      "cell_type": "code",
      "source": [
        "df_encoded= pd.get_dummies(covid_condition, columns=['financialyear'], prefix='financialyear')"
      ],
      "metadata": {
        "id": "7lQduPt1k0wY"
      },
      "execution_count": null,
      "outputs": []
    },
    {
      "cell_type": "code",
      "source": [
        "df_encoded = pd.get_dummies(covid_condition, columns=['forcename'], prefix='forcename')"
      ],
      "metadata": {
        "id": "pOf8WFOjk446"
      },
      "execution_count": null,
      "outputs": []
    },
    {
      "cell_type": "code",
      "source": [
        "X_LogReg = covid_condition[['financialyear', 'offencecode', 'forcename']]\n",
        "y_LogReg= covid_condition['numberofoffences']"
      ],
      "metadata": {
        "id": "TxA8PZo6k8mx"
      },
      "execution_count": null,
      "outputs": []
    },
    {
      "cell_type": "code",
      "source": [
        "X_LogReg = pd.get_dummies(data=X_LogReg, drop_first=True)"
      ],
      "metadata": {
        "id": "uE_TPf2dnEHI"
      },
      "execution_count": null,
      "outputs": []
    },
    {
      "cell_type": "code",
      "source": [
        "X_train_LogReg, X_test_LogReg, y_train_LogReg, y_test_LogReg = train_test_split(X_LogReg, y_LogReg, test_size=0.2, random_state=0)"
      ],
      "metadata": {
        "id": "NbWX4FjIlPYX"
      },
      "execution_count": null,
      "outputs": []
    },
    {
      "cell_type": "code",
      "source": [
        "logreg = LogisticRegression()\n",
        "logreg.fit(X_train_LogReg, y_train_LogReg)"
      ],
      "metadata": {
        "id": "nRpCRolMmmMK"
      },
      "execution_count": null,
      "outputs": []
    },
    {
      "cell_type": "code",
      "source": [
        "y_pred_LogReg = logreg.predict(X_test_LogReg)"
      ],
      "metadata": {
        "colab": {
          "base_uri": "https://localhost:8080/",
          "height": 176
        },
        "id": "StHCQ4vFoTmT",
        "outputId": "9b9d3cc2-25c2-418d-c9f3-a51b3f1144a1"
      },
      "execution_count": null,
      "outputs": [
        {
          "output_type": "error",
          "ename": "NameError",
          "evalue": "name 'logreg' is not defined",
          "traceback": [
            "\u001b[0;31m---------------------------------------------------------------------------\u001b[0m",
            "\u001b[0;31mNameError\u001b[0m                                 Traceback (most recent call last)",
            "\u001b[0;32m<ipython-input-1-277d1c06d13a>\u001b[0m in \u001b[0;36m<cell line: 1>\u001b[0;34m()\u001b[0m\n\u001b[0;32m----> 1\u001b[0;31m \u001b[0my_pred_LogReg\u001b[0m \u001b[0;34m=\u001b[0m \u001b[0mlogreg\u001b[0m\u001b[0;34m.\u001b[0m\u001b[0mpredict\u001b[0m\u001b[0;34m(\u001b[0m\u001b[0mX_test_LogReg\u001b[0m\u001b[0;34m)\u001b[0m\u001b[0;34m\u001b[0m\u001b[0;34m\u001b[0m\u001b[0m\n\u001b[0m",
            "\u001b[0;31mNameError\u001b[0m: name 'logreg' is not defined"
          ]
        }
      ]
    },
    {
      "cell_type": "code",
      "source": [
        "print('Accuracy of logistic regression classifier on test set: {:.2f}'.format(logreg.score(X_test_LogReg, y_test_LogReg)))"
      ],
      "metadata": {
        "colab": {
          "base_uri": "https://localhost:8080/"
        },
        "id": "7H2_TtmMoZI3",
        "outputId": "0812e0a6-3f60-49c4-cb9d-fb04d720d46f"
      },
      "execution_count": null,
      "outputs": [
        {
          "output_type": "stream",
          "name": "stdout",
          "text": [
            "Accuracy of logistic regression classifier on test set: 0.00\n"
          ]
        }
      ]
    }
  ],
  "metadata": {
    "colab": {
      "provenance": [],
      "gpuType": "T4"
    },
    "kernelspec": {
      "display_name": "Python 3",
      "name": "python3"
    },
    "language_info": {
      "name": "python"
    }
  },
  "nbformat": 4,
  "nbformat_minor": 0
}