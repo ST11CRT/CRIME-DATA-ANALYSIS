{
  "nbformat": 4,
  "nbformat_minor": 0,
  "metadata": {
    "colab": {
      "provenance": []
    },
    "kernelspec": {
      "name": "python3",
      "display_name": "Python 3"
    },
    "language_info": {
      "name": "python"
    }
  },
  "cells": [
    {
      "cell_type": "code",
      "execution_count": null,
      "metadata": {
        "colab": {
          "base_uri": "https://localhost:8080/"
        },
        "id": "Xi9zSSildDAb",
        "outputId": "0fab66ff-4050-4302-ae75-d6e01b0f5aaa"
      },
      "outputs": [
        {
          "output_type": "stream",
          "name": "stdout",
          "text": [
            "Requirement already satisfied: odfpy in /usr/local/lib/python3.10/dist-packages (1.4.1)\n",
            "Requirement already satisfied: defusedxml in /usr/local/lib/python3.10/dist-packages (from odfpy) (0.7.1)\n"
          ]
        }
      ],
      "source": [
        "import pandas as pd\n",
        "import ezodf\n",
        "!pip install odfpy\n",
        "import glob\n",
        "excel_file_path = '/content/prc-pfa-mar2013-onwards-tables-191023.ods'"
      ]
    },
    {
      "cell_type": "code",
      "source": [
        "df1 = pd.read_excel(excel_file_path, sheet_name='2012-13')"
      ],
      "metadata": {
        "id": "DXqhwFz4dwbd"
      },
      "execution_count": null,
      "outputs": []
    },
    {
      "cell_type": "code",
      "source": [
        "df1.to_csv('2012-13.csv')"
      ],
      "metadata": {
        "id": "zG--mmOgsiVI"
      },
      "execution_count": null,
      "outputs": []
    },
    {
      "cell_type": "code",
      "source": [
        "df2 = pd.read_excel(excel_file_path, sheet_name='2013-14')"
      ],
      "metadata": {
        "id": "idYWzINJeI_7"
      },
      "execution_count": null,
      "outputs": []
    },
    {
      "cell_type": "code",
      "source": [
        "df2.to_csv('2013-14.csv')"
      ],
      "metadata": {
        "id": "mtLPEITeu1BC"
      },
      "execution_count": null,
      "outputs": []
    },
    {
      "cell_type": "code",
      "source": [
        "df3 = pd.read_excel(excel_file_path, sheet_name='2014-15')"
      ],
      "metadata": {
        "id": "y2N6KTG2iVwD"
      },
      "execution_count": null,
      "outputs": []
    },
    {
      "cell_type": "code",
      "source": [
        "df3.to_csv('2014-15.csv')"
      ],
      "metadata": {
        "id": "wBzacK05vCUr"
      },
      "execution_count": null,
      "outputs": []
    },
    {
      "cell_type": "code",
      "source": [
        "df4 = pd.read_excel(excel_file_path, sheet_name='2015-16')"
      ],
      "metadata": {
        "id": "qi9LX01jidXH"
      },
      "execution_count": null,
      "outputs": []
    },
    {
      "cell_type": "code",
      "source": [
        "df4.to_csv('2015-16.csv')"
      ],
      "metadata": {
        "id": "ptad56ZWvHbw"
      },
      "execution_count": null,
      "outputs": []
    },
    {
      "cell_type": "code",
      "source": [
        "df5 = pd.read_excel(excel_file_path, sheet_name='2016-17')"
      ],
      "metadata": {
        "id": "x1IHKIHGiisU"
      },
      "execution_count": null,
      "outputs": []
    },
    {
      "cell_type": "code",
      "source": [
        "df5.to_csv('2016-17.csv')"
      ],
      "metadata": {
        "id": "oWOL3GQmvVrq"
      },
      "execution_count": null,
      "outputs": []
    },
    {
      "cell_type": "code",
      "source": [
        "df6 = pd.read_excel(excel_file_path, sheet_name='2017-18')"
      ],
      "metadata": {
        "id": "gWdruhTqi_Rx"
      },
      "execution_count": null,
      "outputs": []
    },
    {
      "cell_type": "code",
      "source": [
        "df6.to_csv('2017-18.csv')"
      ],
      "metadata": {
        "id": "W6lHLs_zvZ78"
      },
      "execution_count": null,
      "outputs": []
    },
    {
      "cell_type": "code",
      "source": [
        "df7 = pd.read_excel(excel_file_path, sheet_name='2018-19')"
      ],
      "metadata": {
        "id": "0i_wdbh5jDVR"
      },
      "execution_count": null,
      "outputs": []
    },
    {
      "cell_type": "code",
      "source": [
        "df7.to_csv('2018-19.csv')"
      ],
      "metadata": {
        "id": "YM2itolHvdxX"
      },
      "execution_count": null,
      "outputs": []
    },
    {
      "cell_type": "code",
      "source": [
        "df8 = pd.read_excel(excel_file_path, sheet_name='2019-20')"
      ],
      "metadata": {
        "id": "gpT4ooMcjKf3"
      },
      "execution_count": null,
      "outputs": []
    },
    {
      "cell_type": "code",
      "source": [
        "df8.to_csv('2019-20.csv')"
      ],
      "metadata": {
        "id": "TXw42ugWvhe3"
      },
      "execution_count": null,
      "outputs": []
    },
    {
      "cell_type": "code",
      "source": [
        "df9 = pd.read_excel(excel_file_path, sheet_name='2020-21')"
      ],
      "metadata": {
        "id": "KnS-INwOjWje"
      },
      "execution_count": null,
      "outputs": []
    },
    {
      "cell_type": "code",
      "source": [
        "df9.to_csv('2020-21.csv')"
      ],
      "metadata": {
        "id": "ksoHVyvtvlj9"
      },
      "execution_count": null,
      "outputs": []
    },
    {
      "cell_type": "code",
      "source": [
        "df10 = pd.read_excel(excel_file_path, sheet_name='2021-22')"
      ],
      "metadata": {
        "id": "jjTVnxBXjh9P"
      },
      "execution_count": null,
      "outputs": []
    },
    {
      "cell_type": "code",
      "source": [
        "df10.to_csv('2021-22.csv')"
      ],
      "metadata": {
        "id": "t667DdeSvq2L"
      },
      "execution_count": null,
      "outputs": []
    },
    {
      "cell_type": "code",
      "source": [
        "df11 = pd.read_excel(excel_file_path, sheet_name='2022-23')"
      ],
      "metadata": {
        "id": "MLb7HGPekHpJ"
      },
      "execution_count": null,
      "outputs": []
    },
    {
      "cell_type": "code",
      "source": [
        "df11.to_csv('2022-23.csv')"
      ],
      "metadata": {
        "id": "QOq377efvuwE"
      },
      "execution_count": null,
      "outputs": []
    },
    {
      "cell_type": "code",
      "source": [
        "df12 = pd.read_excel(excel_file_path, sheet_name='2023-24')"
      ],
      "metadata": {
        "id": "P1Pvw1UckKvG"
      },
      "execution_count": null,
      "outputs": []
    },
    {
      "cell_type": "code",
      "source": [
        "df12.to_csv('2023-23.csv')"
      ],
      "metadata": {
        "id": "vuFmCp_Mvyae"
      },
      "execution_count": null,
      "outputs": []
    },
    {
      "cell_type": "code",
      "source": [
        "merged_df = pd.concat([df1, df2,df3,df4,df5,df6,df7,df8,df9,df10,df11,df12], axis=0, ignore_index=True)"
      ],
      "metadata": {
        "id": "_Rk4RosekN9D"
      },
      "execution_count": null,
      "outputs": []
    },
    {
      "cell_type": "code",
      "source": [
        "output_csv_file = '/content/merged_file_new.csv'\n",
        "merged_df.to_csv(output_csv_file, index=False)"
      ],
      "metadata": {
        "id": "zPcU76H43s_R"
      },
      "execution_count": null,
      "outputs": []
    },
    {
      "cell_type": "code",
      "source": [],
      "metadata": {
        "id": "tYMM-hEnDW3u"
      },
      "execution_count": null,
      "outputs": []
    }
  ]
}